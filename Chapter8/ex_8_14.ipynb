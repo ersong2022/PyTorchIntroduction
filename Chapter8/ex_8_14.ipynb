{
 "cells": [
  {
   "cell_type": "code",
   "execution_count": 1,
   "id": "70fc751a",
   "metadata": {},
   "outputs": [],
   "source": [
    "import torch\n",
    "import torch.nn as nn"
   ]
  },
  {
   "cell_type": "code",
   "execution_count": 2,
   "id": "510e23b9",
   "metadata": {},
   "outputs": [],
   "source": [
    "def print_pre_shape(module, input):\n",
    "    print(\"模块前钩子\")\n",
    "    print(module.weight.shape)\n",
    "    print(input[0].shape)"
   ]
  },
  {
   "cell_type": "code",
   "execution_count": 3,
   "id": "93684e4b",
   "metadata": {},
   "outputs": [],
   "source": [
    "def print_post_shape(module, input, output):\n",
    "    print(\"模块后钩子\")\n",
    "    print(module.weight.shape)\n",
    "    print(input[0].shape)\n",
    "    print(output[0].shape)"
   ]
  },
  {
   "cell_type": "code",
   "execution_count": 4,
   "id": "55c7e666",
   "metadata": {},
   "outputs": [],
   "source": [
    "def print_grad_shape(module, grad_input, grad_output):\n",
    "    print(\"梯度钩子\")\n",
    "    print(module.weight.grad.shape)\n",
    "    print(grad_input[0].shape)\n",
    "    print(grad_output[0].shape)"
   ]
  },
  {
   "cell_type": "code",
   "execution_count": 5,
   "id": "b11ddc52",
   "metadata": {},
   "outputs": [],
   "source": [
    "conv = nn.Conv2d(16,32,kernel_size=(3,3))"
   ]
  },
  {
   "cell_type": "code",
   "execution_count": 6,
   "id": "2a31c115",
   "metadata": {},
   "outputs": [],
   "source": [
    "handle1=conv.register_forward_pre_hook(print_pre_shape)"
   ]
  },
  {
   "cell_type": "code",
   "execution_count": 7,
   "id": "5c6f6de9",
   "metadata": {},
   "outputs": [],
   "source": [
    "handle2=conv.register_forward_hook(print_post_shape)"
   ]
  },
  {
   "cell_type": "code",
   "execution_count": 8,
   "id": "642df7e8",
   "metadata": {},
   "outputs": [],
   "source": [
    "handle3=conv.register_full_backward_hook(print_grad_shape)\n",
    "#handle3=conv.register_backward_hook(print_grad_shape)"
   ]
  },
  {
   "cell_type": "code",
   "execution_count": 9,
   "id": "9bfef7e4",
   "metadata": {},
   "outputs": [],
   "source": [
    "input=torch.randn(4,16,128,128,requires_grad=True)"
   ]
  },
  {
   "cell_type": "code",
   "execution_count": 10,
   "id": "8c1a4a9a",
   "metadata": {},
   "outputs": [
    {
     "name": "stdout",
     "output_type": "stream",
     "text": [
      "模块前钩子\n",
      "torch.Size([32, 16, 3, 3])\n",
      "torch.Size([4, 16, 128, 128])\n",
      "模块后钩子\n",
      "torch.Size([32, 16, 3, 3])\n",
      "torch.Size([4, 16, 128, 128])\n",
      "torch.Size([32, 126, 126])\n"
     ]
    }
   ],
   "source": [
    "ret=conv(input)"
   ]
  },
  {
   "cell_type": "code",
   "execution_count": 11,
   "id": "f4bc5bc9",
   "metadata": {},
   "outputs": [
    {
     "name": "stdout",
     "output_type": "stream",
     "text": [
      "tensor(-2615.2991, grad_fn=<SumBackward0>)\n"
     ]
    }
   ],
   "source": [
    "ret=ret.sum()\n",
    "print(ret)"
   ]
  },
  {
   "cell_type": "code",
   "execution_count": 12,
   "id": "f283ba3d",
   "metadata": {},
   "outputs": [
    {
     "name": "stdout",
     "output_type": "stream",
     "text": [
      "梯度钩子\n",
      "torch.Size([32, 16, 3, 3])\n",
      "torch.Size([4, 16, 128, 128])\n",
      "torch.Size([4, 32, 126, 126])\n"
     ]
    }
   ],
   "source": [
    "ret.backward()"
   ]
  },
  {
   "cell_type": "code",
   "execution_count": null,
   "id": "26b5e7b4",
   "metadata": {},
   "outputs": [],
   "source": []
  }
 ],
 "metadata": {
  "kernelspec": {
   "display_name": "Python 3 (ipykernel)",
   "language": "python",
   "name": "python3"
  },
  "language_info": {
   "codemirror_mode": {
    "name": "ipython",
    "version": 3
   },
   "file_extension": ".py",
   "mimetype": "text/x-python",
   "name": "python",
   "nbconvert_exporter": "python",
   "pygments_lexer": "ipython3",
   "version": "3.8.5"
  }
 },
 "nbformat": 4,
 "nbformat_minor": 5
}
